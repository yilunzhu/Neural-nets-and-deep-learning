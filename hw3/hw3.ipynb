{
 "cells": [
  {
   "cell_type": "markdown",
   "metadata": {},
   "source": [
    "# Assignment 3"
   ]
  },
  {
   "cell_type": "markdown",
   "metadata": {},
   "source": [
    "## 1. Autoencoder"
   ]
  },
  {
   "cell_type": "code",
   "execution_count": 15,
   "metadata": {
    "ExecuteTime": {
     "end_time": "2019-12-10T22:02:22.434845Z",
     "start_time": "2019-12-10T22:02:22.423904Z"
    }
   },
   "outputs": [],
   "source": [
    "%matplotlib inline\n",
    "\n",
    "import tensorflow as tf\n",
    "import keras\n",
    "from keras import applications\n",
    "from keras import backend\n",
    "from keras.preprocessing.text import Tokenizer, one_hot\n",
    "from keras.preprocessing import sequence\n",
    "from keras.datasets import mnist\n",
    "from keras.layers import Input, Dense, Conv2D, MaxPooling2D, UpSampling2D, Flatten, Dropout, Embedding, LSTM, Bidirectional, Conv1D, MaxPooling1D, Activation\n",
    "from keras.models import Model, Sequential\n",
    "import numpy as np\n",
    "import pandas as pd\n",
    "from sklearn.model_selection import train_test_split\n",
    "from sklearn.metrics import classification_report\n",
    "import matplotlib.pyplot as plt"
   ]
  },
  {
   "cell_type": "code",
   "execution_count": 3,
   "metadata": {
    "ExecuteTime": {
     "end_time": "2019-12-09T20:43:00.487006Z",
     "start_time": "2019-12-09T20:42:59.841732Z"
    }
   },
   "outputs": [],
   "source": [
    "(x_train, y_train), (x_test, y_test) = mnist.load_data()\n",
    "x_train = x_train.astype('float32') / 255.\n",
    "x_test = x_test.astype('float32') / 255.\n",
    "\n",
    "input_shape = x_train.shape\n",
    "pixel_len = input_shape[1]\n",
    "\n",
    "x_train = x_train.reshape(len(x_train), pixel_len, pixel_len, 1)\n",
    "x_test = x_test.reshape(len(x_test), pixel_len, pixel_len, 1)"
   ]
  },
  {
   "cell_type": "code",
   "execution_count": 5,
   "metadata": {
    "ExecuteTime": {
     "end_time": "2019-12-09T20:43:33.631349Z",
     "start_time": "2019-12-09T20:43:33.624365Z"
    }
   },
   "outputs": [
    {
     "data": {
      "text/plain": [
       "(60000, 28, 28, 1)"
      ]
     },
     "execution_count": 5,
     "metadata": {},
     "output_type": "execute_result"
    }
   ],
   "source": [
    "x_train.shape"
   ]
  },
  {
   "cell_type": "code",
   "execution_count": 17,
   "metadata": {
    "ExecuteTime": {
     "end_time": "2019-12-09T06:48:20.971907Z",
     "start_time": "2019-12-09T06:48:20.527081Z"
    }
   },
   "outputs": [
    {
     "data": {
      "image/png": "[encoded data removed]",
      "text/plain": [
       "<Figure size 1440x288 with 10 Axes>"
      ]
     },
     "metadata": {
      "needs_background": "light"
     },
     "output_type": "display_data"
    }
   ],
   "source": [
    "n = 10\n",
    "plt.figure(figsize=(20, 4))\n",
    "for i in range(n):\n",
    "    ax = plt.subplot(2, n, i + 1)\n",
    "    plt.imshow(x_test[i].reshape(28, 28))\n",
    "    plt.gray()\n",
    "    ax.get_xaxis().set_visible(False)\n",
    "    ax.get_yaxis().set_visible(False)\n",
    "plt.show()"
   ]
  },
  {
   "cell_type": "code",
   "execution_count": 20,
   "metadata": {
    "ExecuteTime": {
     "end_time": "2019-12-09T06:51:12.257190Z",
     "start_time": "2019-12-09T06:51:12.112579Z"
    }
   },
   "outputs": [
    {
     "name": "stdout",
     "output_type": "stream",
     "text": [
      "Model: \"model_2\"\n",
      "_________________________________________________________________\n",
      "Layer (type)                 Output Shape              Param #   \n",
      "=================================================================\n",
      "input_2 (InputLayer)         (None, 28, 28, 1)         0         \n",
      "_________________________________________________________________\n",
      "conv2d_6 (Conv2D)            (None, 28, 28, 32)        320       \n",
      "_________________________________________________________________\n",
      "max_pooling2d_3 (MaxPooling2 (None, 14, 14, 32)        0         \n",
      "_________________________________________________________________\n",
      "conv2d_7 (Conv2D)            (None, 14, 14, 1)         289       \n",
      "_________________________________________________________________\n",
      "max_pooling2d_4 (MaxPooling2 (None, 7, 7, 1)           0         \n",
      "_________________________________________________________________\n",
      "conv2d_8 (Conv2D)            (None, 7, 7, 1)           10        \n",
      "_________________________________________________________________\n",
      "up_sampling2d_3 (UpSampling2 (None, 14, 14, 1)         0         \n",
      "_________________________________________________________________\n",
      "conv2d_9 (Conv2D)            (None, 14, 14, 32)        320       \n",
      "_________________________________________________________________\n",
      "up_sampling2d_4 (UpSampling2 (None, 28, 28, 32)        0         \n",
      "_________________________________________________________________\n",
      "conv2d_10 (Conv2D)           (None, 28, 28, 1)         289       \n",
      "=================================================================\n",
      "Total params: 1,228\n",
      "Trainable params: 1,228\n",
      "Non-trainable params: 0\n",
      "_________________________________________________________________\n"
     ]
    }
   ],
   "source": [
    "input_img = Input(shape=(pixel_len, pixel_len, 1))\n",
    "\n",
    "# encoder\n",
    "model = Conv2D(32, (3, 3), padding='same', activation='relu')(input_img)\n",
    "model = MaxPooling2D((2, 2), padding='same')(model)\n",
    "model = Conv2D(1,(3, 3), padding='same', activation='relu')(model)\n",
    "model = MaxPooling2D((2, 2), padding='same')(model)\n",
    "\n",
    "# decoder\n",
    "model = Conv2D(1,(3, 3), padding='same', activation='relu')(model)\n",
    "model = UpSampling2D((2, 2))(model)\n",
    "model = Conv2D(32, (3, 3), padding='same', activation='relu')(model)\n",
    "model = UpSampling2D((2, 2))(model)\n",
    "model = Conv2D(1, (3, 3), padding='same', activation='sigmoid')(model)\n",
    "\n",
    "autoencoder = Model(input_img, model)\n",
    "autoencoder.compile(optimizer='adam', loss='mse')\n",
    "\n",
    "autoencoder.summary()"
   ]
  },
  {
   "cell_type": "code",
   "execution_count": 22,
   "metadata": {
    "ExecuteTime": {
     "end_time": "2019-12-09T07:10:11.538615Z",
     "start_time": "2019-12-09T06:53:59.506284Z"
    }
   },
   "outputs": [
    {
     "name": "stdout",
     "output_type": "stream",
     "text": [
      "Train on 60000 samples, validate on 10000 samples\n",
      "Epoch 1/10\n",
      "60000/60000 [==============================] - 97s 2ms/step - loss: 0.0248 - val_loss: 0.0230\n",
      "Epoch 2/10\n",
      "60000/60000 [==============================] - 97s 2ms/step - loss: 0.0223 - val_loss: 0.0209\n",
      "Epoch 3/10\n",
      "60000/60000 [==============================] - 97s 2ms/step - loss: 0.0203 - val_loss: 0.0191\n",
      "Epoch 4/10\n",
      "60000/60000 [==============================] - 97s 2ms/step - loss: 0.0188 - val_loss: 0.0178\n",
      "Epoch 5/10\n",
      "60000/60000 [==============================] - 97s 2ms/step - loss: 0.0177 - val_loss: 0.0169\n",
      "Epoch 6/10\n",
      "60000/60000 [==============================] - 97s 2ms/step - loss: 0.0169 - val_loss: 0.0163\n",
      "Epoch 7/10\n",
      "60000/60000 [==============================] - 97s 2ms/step - loss: 0.0164 - val_loss: 0.0160\n",
      "Epoch 8/10\n",
      "60000/60000 [==============================] - 99s 2ms/step - loss: 0.0160 - val_loss: 0.0155\n",
      "Epoch 9/10\n",
      "60000/60000 [==============================] - 97s 2ms/step - loss: 0.0157 - val_loss: 0.0153\n",
      "Epoch 10/10\n",
      "60000/60000 [==============================] - 96s 2ms/step - loss: 0.0155 - val_loss: 0.0151\n"
     ]
    },
    {
     "data": {
      "text/plain": [
       "<keras.callbacks.callbacks.History at 0x1cbb8de9ba8>"
      ]
     },
     "execution_count": 22,
     "metadata": {},
     "output_type": "execute_result"
    }
   ],
   "source": [
    "autoencoder.fit(x_train, x_train, epochs=10, batch_size=128, shuffle=True, validation_data=(x_test, x_test))"
   ]
  },
  {
   "cell_type": "code",
   "execution_count": 25,
   "metadata": {
    "ExecuteTime": {
     "end_time": "2019-12-09T07:12:32.327181Z",
     "start_time": "2019-12-09T07:12:28.748752Z"
    }
   },
   "outputs": [
    {
     "data": {
      "image/png": "[encoded data removed]",
      "text/plain": [
       "<Figure size 1440x288 with 10 Axes>"
      ]
     },
     "metadata": {
      "needs_background": "light"
     },
     "output_type": "display_data"
    }
   ],
   "source": [
    "pred_img = autoencoder.predict(x_test)\n",
    "plt.figure(figsize=(20, 4))\n",
    "for i in range(n):\n",
    "    ax = plt.subplot(2, n, i + 1)\n",
    "    plt.imshow(pred_img[i].reshape(28, 28))\n",
    "    plt.gray()\n",
    "    ax.get_xaxis().set_visible(False)\n",
    "    ax.get_yaxis().set_visible(False)\n",
    "plt.show()"
   ]
  },
  {
   "cell_type": "markdown",
   "metadata": {},
   "source": [
    "## 2. Image classification"
   ]
  },
  {
   "cell_type": "markdown",
   "metadata": {},
   "source": [
    "### 2.1 Deep CNN"
   ]
  },
  {
   "cell_type": "markdown",
   "metadata": {},
   "source": [
    "The CNN model includes two convolutional transformations that uses (1) 128 filters with a 3x3 kernel and (2) 32 filters with 3x3 filters with a 3x3 kernel, and one pooling layer: max pooling with a 2x2 window. Then the model flattens the vectors and goes through two dense layers to get the output, which is the integer that maps to each category."
   ]
  },
  {
   "cell_type": "code",
   "execution_count": 70,
   "metadata": {
    "ExecuteTime": {
     "end_time": "2019-12-10T07:43:21.701017Z",
     "start_time": "2019-12-10T07:43:21.684063Z"
    }
   },
   "outputs": [],
   "source": [
    "y_train = keras.utils.to_categorical(y_train)\n",
    "y_test = keras.utils.to_categorical(y_test)"
   ]
  },
  {
   "cell_type": "code",
   "execution_count": 35,
   "metadata": {
    "ExecuteTime": {
     "end_time": "2019-12-09T07:22:13.201387Z",
     "start_time": "2019-12-09T07:22:12.980978Z"
    }
   },
   "outputs": [
    {
     "name": "stdout",
     "output_type": "stream",
     "text": [
      "Model: \"sequential_1\"\n",
      "_________________________________________________________________\n",
      "Layer (type)                 Output Shape              Param #   \n",
      "=================================================================\n",
      "conv2d_11 (Conv2D)           (None, 26, 26, 128)       1280      \n",
      "_________________________________________________________________\n",
      "max_pooling2d_5 (MaxPooling2 (None, 13, 13, 128)       0         \n",
      "_________________________________________________________________\n",
      "dropout_1 (Dropout)          (None, 13, 13, 128)       0         \n",
      "_________________________________________________________________\n",
      "conv2d_12 (Conv2D)           (None, 11, 11, 32)        36896     \n",
      "_________________________________________________________________\n",
      "flatten_1 (Flatten)          (None, 3872)              0         \n",
      "_________________________________________________________________\n",
      "dense_1 (Dense)              (None, 128)               495744    \n",
      "_________________________________________________________________\n",
      "dropout_2 (Dropout)          (None, 128)               0         \n",
      "_________________________________________________________________\n",
      "dense_2 (Dense)              (None, 10)                1290      \n",
      "=================================================================\n",
      "Total params: 535,210\n",
      "Trainable params: 535,210\n",
      "Non-trainable params: 0\n",
      "_________________________________________________________________\n"
     ]
    }
   ],
   "source": [
    "cnn_model = Sequential()\n",
    "cnn_model.add(Conv2D(128, kernel_size=(3, 3), activation='relu', input_shape=(pixel_len, pixel_len, 1)))\n",
    "cnn_model.add(MaxPooling2D((2, 2)))\n",
    "cnn_model.add(Dropout(0.3))\n",
    "cnn_model.add(Conv2D(32, kernel_size=(3, 3), activation='relu'))\n",
    "cnn_model.add(Flatten())\n",
    "cnn_model.add(Dense(128, activation='relu'))\n",
    "cnn_model.add(Dropout(0.5))\n",
    "cnn_model.add(Dense(10, activation='softmax'))\n",
    "\n",
    "cnn_model.compile(optimizer='adam', loss='categorical_crossentropy', metrics=['accuracy'])\n",
    "cnn_model.summary()"
   ]
  },
  {
   "cell_type": "code",
   "execution_count": 36,
   "metadata": {
    "ExecuteTime": {
     "end_time": "2019-12-09T07:41:18.893145Z",
     "start_time": "2019-12-09T07:22:59.106127Z"
    }
   },
   "outputs": [
    {
     "name": "stdout",
     "output_type": "stream",
     "text": [
      "Train on 60000 samples, validate on 10000 samples\n",
      "Epoch 1/10\n",
      "60000/60000 [==============================] - 98s 2ms/step - loss: 0.2799 - accuracy: 0.9140 - val_loss: 0.0582 - val_accuracy: 0.9806\n",
      "Epoch 2/10\n",
      "60000/60000 [==============================] - 94s 2ms/step - loss: 0.0910 - accuracy: 0.9726 - val_loss: 0.0424 - val_accuracy: 0.9849\n",
      "Epoch 3/10\n",
      "60000/60000 [==============================] - 94s 2ms/step - loss: 0.0657 - accuracy: 0.9803 - val_loss: 0.0319 - val_accuracy: 0.9900\n",
      "Epoch 4/10\n",
      "60000/60000 [==============================] - 153s 3ms/step - loss: 0.0524 - accuracy: 0.9847 - val_loss: 0.0309 - val_accuracy: 0.9887\n",
      "Epoch 5/10\n",
      "60000/60000 [==============================] - 106s 2ms/step - loss: 0.0450 - accuracy: 0.9864 - val_loss: 0.0285 - val_accuracy: 0.9908\n",
      "Epoch 6/10\n",
      "60000/60000 [==============================] - 93s 2ms/step - loss: 0.0390 - accuracy: 0.9879 - val_loss: 0.0256 - val_accuracy: 0.9912\n",
      "Epoch 7/10\n",
      "60000/60000 [==============================] - 94s 2ms/step - loss: 0.0335 - accuracy: 0.9894 - val_loss: 0.0323 - val_accuracy: 0.9891\n",
      "Epoch 8/10\n",
      "60000/60000 [==============================] - 94s 2ms/step - loss: 0.0312 - accuracy: 0.9905 - val_loss: 0.0259 - val_accuracy: 0.9918\n",
      "Epoch 9/10\n",
      "60000/60000 [==============================] - 167s 3ms/step - loss: 0.0273 - accuracy: 0.9911 - val_loss: 0.0239 - val_accuracy: 0.9926\n",
      "Epoch 10/10\n",
      "60000/60000 [==============================] - 105s 2ms/step - loss: 0.0243 - accuracy: 0.9921 - val_loss: 0.0274 - val_accuracy: 0.9914\n"
     ]
    },
    {
     "data": {
      "text/plain": [
       "<keras.callbacks.callbacks.History at 0x1cb873f68d0>"
      ]
     },
     "execution_count": 36,
     "metadata": {},
     "output_type": "execute_result"
    }
   ],
   "source": [
    "cnn_model.fit(x_train, y_train,\n",
    "              batch_size=128,\n",
    "              epochs=10,\n",
    "              verbose=1,\n",
    "              validation_data=(x_test, y_test))"
   ]
  },
  {
   "cell_type": "code",
   "execution_count": 37,
   "metadata": {
    "ExecuteTime": {
     "end_time": "2019-12-09T07:41:48.427970Z",
     "start_time": "2019-12-09T07:41:45.245177Z"
    }
   },
   "outputs": [
    {
     "name": "stdout",
     "output_type": "stream",
     "text": [
      "10000/10000 [==============================] - 3s 317us/step\n",
      "Test loss: 0.027442988229725643\n",
      "Test accuracy: 0.9914000034332275\n"
     ]
    }
   ],
   "source": [
    "cnn_eval_score = cnn_model.evaluate(x_test, y_test)\n",
    "print('Test loss:', cnn_eval_score[0])\n",
    "print('Test accuracy:', cnn_eval_score[1])"
   ]
  },
  {
   "cell_type": "markdown",
   "metadata": {},
   "source": [
    "### 2.2 Transfer learning"
   ]
  },
  {
   "cell_type": "code",
   "execution_count": 62,
   "metadata": {
    "ExecuteTime": {
     "end_time": "2019-12-10T07:38:33.791390Z",
     "start_time": "2019-12-10T07:38:32.735212Z"
    }
   },
   "outputs": [],
   "source": [
    "transfer_x_train = np.tile(x_train, (1, 1, 1, 3))\n",
    "transfer_x_test = np.tile(x_test, (1, 1, 1, 3))"
   ]
  },
  {
   "cell_type": "code",
   "execution_count": 63,
   "metadata": {
    "ExecuteTime": {
     "end_time": "2019-12-10T07:38:37.761766Z",
     "start_time": "2019-12-10T07:38:34.775779Z"
    }
   },
   "outputs": [],
   "source": [
    "transfer_x_train = np.pad(transfer_x_train, ((0,0),(2,2),(2,2),(0,0)), 'constant')\n",
    "transfer_x_test = np.pad(transfer_x_test, ((0,0),(2,2),(2,2),(0,0)), 'constant')"
   ]
  },
  {
   "cell_type": "code",
   "execution_count": 64,
   "metadata": {
    "ExecuteTime": {
     "end_time": "2019-12-10T07:38:38.666387Z",
     "start_time": "2019-12-10T07:38:38.661398Z"
    }
   },
   "outputs": [
    {
     "data": {
      "text/plain": [
       "(60000, 32, 32, 3)"
      ]
     },
     "execution_count": 64,
     "metadata": {},
     "output_type": "execute_result"
    }
   ],
   "source": [
    "transfer_x_train.shape"
   ]
  },
  {
   "cell_type": "code",
   "execution_count": 68,
   "metadata": {
    "ExecuteTime": {
     "end_time": "2019-12-10T07:42:21.804238Z",
     "start_time": "2019-12-10T07:42:03.533105Z"
    }
   },
   "outputs": [
    {
     "name": "stdout",
     "output_type": "stream",
     "text": [
      "Model: \"sequential_16\"\n",
      "_________________________________________________________________\n",
      "Layer (type)                 Output Shape              Param #   \n",
      "=================================================================\n",
      "resnet50 (Model)             (None, 1, 1, 2048)        23587712  \n",
      "_________________________________________________________________\n",
      "flatten_6 (Flatten)          (None, 2048)              0         \n",
      "_________________________________________________________________\n",
      "dense_31 (Dense)             (None, 512)               1049088   \n",
      "_________________________________________________________________\n",
      "dropout_21 (Dropout)         (None, 512)               0         \n",
      "_________________________________________________________________\n",
      "dense_32 (Dense)             (None, 64)                32832     \n",
      "_________________________________________________________________\n",
      "dropout_22 (Dropout)         (None, 64)                0         \n",
      "_________________________________________________________________\n",
      "dense_33 (Dense)             (None, 10)                650       \n",
      "=================================================================\n",
      "Total params: 24,670,282\n",
      "Trainable params: 1,082,570\n",
      "Non-trainable params: 23,587,712\n",
      "_________________________________________________________________\n"
     ]
    }
   ],
   "source": [
    "transfer_model = Sequential()\n",
    "transfer_model.add(applications.resnet.ResNet50(weights = \"imagenet\", include_top=False, input_shape=(32, 32, 3)))\n",
    "\n",
    "# freeze the weights\n",
    "for layer in transfer_model.layers:\n",
    "    layer.trainable = False\n",
    "\n",
    "# Dense layer\n",
    "transfer_model.add(Flatten())\n",
    "transfer_model.add(Dense(512, activation='relu'))\n",
    "transfer_model.add(Dropout(0.35))\n",
    "transfer_model.add(Dense(64, activation='relu'))\n",
    "transfer_model.add(Dropout(0.35))\n",
    "transfer_model.add(Dense(10, activation='softmax'))\n",
    "\n",
    "transfer_model.compile(optimizer='adam', loss='categorical_crossentropy', metrics=['accuracy'])\n",
    "transfer_model.summary()"
   ]
  },
  {
   "cell_type": "code",
   "execution_count": 71,
   "metadata": {
    "ExecuteTime": {
     "end_time": "2019-12-10T08:23:56.663256Z",
     "start_time": "2019-12-10T07:43:28.644444Z"
    }
   },
   "outputs": [
    {
     "name": "stdout",
     "output_type": "stream",
     "text": [
      "Train on 60000 samples, validate on 10000 samples\n",
      "Epoch 1/10\n",
      "60000/60000 [==============================] - 269s 4ms/step - loss: 1.0092 - accuracy: 0.6867 - val_loss: 2.8465 - val_accuracy: 0.1511\n",
      "Epoch 2/10\n",
      "60000/60000 [==============================] - 270s 4ms/step - loss: 0.6589 - accuracy: 0.7956 - val_loss: 3.4635 - val_accuracy: 0.1062\n",
      "Epoch 3/10\n",
      "60000/60000 [==============================] - 273s 5ms/step - loss: 0.5738 - accuracy: 0.8219 - val_loss: 3.1264 - val_accuracy: 0.1509\n",
      "Epoch 4/10\n",
      "60000/60000 [==============================] - 200s 3ms/step - loss: 0.5167 - accuracy: 0.8385 - val_loss: 2.8753 - val_accuracy: 0.1463\n",
      "Epoch 5/10\n",
      "60000/60000 [==============================] - 233s 4ms/step - loss: 0.4817 - accuracy: 0.8495 - val_loss: 2.9366 - val_accuracy: 0.1392\n",
      "Epoch 6/10\n",
      "60000/60000 [==============================] - 207s 3ms/step - loss: 0.4517 - accuracy: 0.8566 - val_loss: 2.8417 - val_accuracy: 0.1227\n",
      "Epoch 7/10\n",
      "60000/60000 [==============================] - 251s 4ms/step - loss: 0.4275 - accuracy: 0.8645 - val_loss: 3.2357 - val_accuracy: 0.1073\n",
      "Epoch 8/10\n",
      "60000/60000 [==============================] - 250s 4ms/step - loss: 0.4031 - accuracy: 0.8708 - val_loss: 2.8310 - val_accuracy: 0.1780\n",
      "Epoch 9/10\n",
      "60000/60000 [==============================] - 211s 4ms/step - loss: 0.3823 - accuracy: 0.8790 - val_loss: 3.0219 - val_accuracy: 0.1309\n",
      "Epoch 10/10\n",
      "60000/60000 [==============================] - 257s 4ms/step - loss: 0.3665 - accuracy: 0.8822 - val_loss: 3.8906 - val_accuracy: 0.1034\n"
     ]
    },
    {
     "data": {
      "text/plain": [
       "<keras.callbacks.callbacks.History at 0x2f7a4fc6a20>"
      ]
     },
     "execution_count": 71,
     "metadata": {},
     "output_type": "execute_result"
    }
   ],
   "source": [
    "transfer_model.fit(transfer_x_train, y_train,\n",
    "              batch_size=128,\n",
    "              epochs=10,\n",
    "              verbose=1,\n",
    "              validation_data=(transfer_x_test, y_test))"
   ]
  },
  {
   "cell_type": "code",
   "execution_count": 72,
   "metadata": {
    "ExecuteTime": {
     "end_time": "2019-12-10T08:24:33.949514Z",
     "start_time": "2019-12-10T08:24:05.139581Z"
    }
   },
   "outputs": [
    {
     "name": "stdout",
     "output_type": "stream",
     "text": [
      "10000/10000 [==============================] - 29s 3ms/step\n",
      "Test loss: 3.8906137199401853\n",
      "Test accuracy: 0.10339999943971634\n"
     ]
    }
   ],
   "source": [
    "transfer_eval_score = transfer_model.evaluate(transfer_x_test, y_test)\n",
    "print('Test loss:', transfer_eval_score[0])\n",
    "print('Test accuracy:', transfer_eval_score[1])"
   ]
  },
  {
   "cell_type": "markdown",
   "metadata": {},
   "source": [
    "Is there anything wrong with my code? It's strange that the acc on the test set is pretty low..."
   ]
  },
  {
   "cell_type": "markdown",
   "metadata": {},
   "source": [
    "## 3. Text classification"
   ]
  },
  {
   "cell_type": "markdown",
   "metadata": {},
   "source": [
    "I'm confused with how to evaluate the task. If I follow the description in the question, it is a binary classification task that whether the topic is discussed in the text. The other option is a topic ranking task, which assigns the probility to each topic and decides which topic(s) is(are) most possible discussed. \n",
    "\n",
    "I looked into the dataset and found that it is not always (actually a lot) the case that each row sum to 1. Thus I'm not sure how to evaluate the weights of each topic in the dataset. In this assignment, I change the labels to either 0 or 1, making it a multi-label binary classification."
   ]
  },
  {
   "cell_type": "markdown",
   "metadata": {},
   "source": [
    "### 3.1 RNN"
   ]
  },
  {
   "cell_type": "code",
   "execution_count": 23,
   "metadata": {
    "ExecuteTime": {
     "end_time": "2019-12-10T22:05:35.315418Z",
     "start_time": "2019-12-10T22:05:35.311430Z"
    }
   },
   "outputs": [],
   "source": [
    "max_seq_len = 64\n",
    "num_classes = 15"
   ]
  },
  {
   "cell_type": "code",
   "execution_count": 3,
   "metadata": {
    "ExecuteTime": {
     "end_time": "2019-12-10T21:57:39.438800Z",
     "start_time": "2019-12-10T21:57:39.189435Z"
    }
   },
   "outputs": [],
   "source": [
    "df = pd.read_csv('tweets_with_labels.csv', sep='\\t', header=[0])\n",
    "data_df = df['tweet']\n",
    "labels = df.iloc[:,2:] \n",
    "X_train, X_test, text_y_train, text_y_test = train_test_split(data_df, labels, test_size=0.2)"
   ]
  },
  {
   "cell_type": "code",
   "execution_count": 21,
   "metadata": {
    "ExecuteTime": {
     "end_time": "2019-12-10T22:05:09.230158Z",
     "start_time": "2019-12-10T22:05:09.211211Z"
    }
   },
   "outputs": [],
   "source": [
    "text_y_train = np.array(text_y_train)\n",
    "text_y_test = np.array(text_y_test)"
   ]
  },
  {
   "cell_type": "code",
   "execution_count": 4,
   "metadata": {
    "ExecuteTime": {
     "end_time": "2019-12-10T21:57:41.680490Z",
     "start_time": "2019-12-10T21:57:41.634607Z"
    },
    "scrolled": true
   },
   "outputs": [],
   "source": [
    "text_y_train = np.where(text_y_train == 0, 0, 1)\n",
    "text_y_test = np.where(text_y_test == 0, 0, 1)"
   ]
  },
  {
   "cell_type": "code",
   "execution_count": 5,
   "metadata": {
    "ExecuteTime": {
     "end_time": "2019-12-10T21:57:44.846016Z",
     "start_time": "2019-12-10T21:57:43.133597Z"
    }
   },
   "outputs": [],
   "source": [
    "word_tokenizer = Tokenizer(num_words=None, lower=True, split=' ', char_level=False, oov_token='UNK')\n",
    "word_tokenizer.fit_on_texts(X_train)"
   ]
  },
  {
   "cell_type": "code",
   "execution_count": 13,
   "metadata": {
    "ExecuteTime": {
     "end_time": "2019-12-10T22:00:40.200770Z",
     "start_time": "2019-12-10T22:00:40.196780Z"
    }
   },
   "outputs": [],
   "source": [
    "word_vocab_size = len(word_tokenizer.word_index)"
   ]
  },
  {
   "cell_type": "code",
   "execution_count": 26,
   "metadata": {
    "ExecuteTime": {
     "end_time": "2019-12-10T22:12:39.043808Z",
     "start_time": "2019-12-10T22:12:39.037792Z"
    }
   },
   "outputs": [
    {
     "data": {
      "text/plain": [
       "38347"
      ]
     },
     "execution_count": 26,
     "metadata": {},
     "output_type": "execute_result"
    }
   ],
   "source": [
    "word_vocab_size"
   ]
  },
  {
   "cell_type": "code",
   "execution_count": 16,
   "metadata": {
    "ExecuteTime": {
     "end_time": "2019-12-10T22:03:26.226321Z",
     "start_time": "2019-12-10T22:03:24.599673Z"
    }
   },
   "outputs": [],
   "source": [
    "encoded_train = [one_hot(s, word_vocab_size) for s in X_train]\n",
    "encoded_test = [one_hot(s, word_vocab_size) for s in X_test]"
   ]
  },
  {
   "cell_type": "code",
   "execution_count": 18,
   "metadata": {
    "ExecuteTime": {
     "end_time": "2019-12-10T22:04:03.244626Z",
     "start_time": "2019-12-10T22:04:02.849653Z"
    }
   },
   "outputs": [],
   "source": [
    "encoded_train = sequence.pad_sequences(encoded_train, maxlen=max_seq_len)\n",
    "encoded_test = sequence.pad_sequences(encoded_test, maxlen=max_seq_len)"
   ]
  },
  {
   "cell_type": "code",
   "execution_count": 47,
   "metadata": {
    "ExecuteTime": {
     "end_time": "2019-12-10T22:37:01.929186Z",
     "start_time": "2019-12-10T22:37:01.438500Z"
    }
   },
   "outputs": [
    {
     "name": "stdout",
     "output_type": "stream",
     "text": [
      "Model: \"sequential_4\"\n",
      "_________________________________________________________________\n",
      "Layer (type)                 Output Shape              Param #   \n",
      "=================================================================\n",
      "embedding_5 (Embedding)      (None, 64, 128)           5120000   \n",
      "_________________________________________________________________\n",
      "bidirectional_4 (Bidirection (None, 128)               98816     \n",
      "_________________________________________________________________\n",
      "dropout_6 (Dropout)          (None, 128)               0         \n",
      "_________________________________________________________________\n",
      "dense_6 (Dense)              (None, 15)                1935      \n",
      "=================================================================\n",
      "Total params: 5,220,751\n",
      "Trainable params: 5,220,751\n",
      "Non-trainable params: 0\n",
      "_________________________________________________________________\n"
     ]
    }
   ],
   "source": [
    "rnn_model = Sequential()\n",
    "rnn_model.add(Embedding(40000, 128, input_length=max_seq_len))\n",
    "rnn_model.add(Bidirectional(LSTM(64)))\n",
    "rnn_model.add(Dropout(0.5))\n",
    "rnn_model.add(Dense(num_classes, activation='softmax'))\n",
    "rnn_model.compile('adam', 'binary_crossentropy', metrics=['accuracy'])\n",
    "\n",
    "rnn_model.summary()"
   ]
  },
  {
   "cell_type": "code",
   "execution_count": 48,
   "metadata": {
    "ExecuteTime": {
     "end_time": "2019-12-10T22:46:00.465155Z",
     "start_time": "2019-12-10T22:37:03.749318Z"
    }
   },
   "outputs": [
    {
     "name": "stderr",
     "output_type": "stream",
     "text": [
      "c:\\users\\zhuda\\anaconda3\\envs\\python3\\lib\\site-packages\\tensorflow\\python\\ops\\gradients_util.py:93: UserWarning: Converting sparse IndexedSlices to a dense Tensor of unknown shape. This may consume a large amount of memory.\n",
      "  \"Converting sparse IndexedSlices to a dense Tensor of unknown shape. \"\n"
     ]
    },
    {
     "name": "stdout",
     "output_type": "stream",
     "text": [
      "Train on 62356 samples, validate on 15590 samples\n",
      "Epoch 1/5\n",
      "62356/62356 [==============================] - 104s 2ms/step - loss: 0.2628 - accuracy: 0.9019 - val_loss: 0.2153 - val_accuracy: 0.9207\n",
      "Epoch 2/5\n",
      "62356/62356 [==============================] - 98s 2ms/step - loss: 0.2107 - accuracy: 0.9192 - val_loss: 0.2066 - val_accuracy: 0.9197\n",
      "Epoch 3/5\n",
      "62356/62356 [==============================] - 98s 2ms/step - loss: 0.1980 - accuracy: 0.9205 - val_loss: 0.2063 - val_accuracy: 0.9205\n",
      "Epoch 4/5\n",
      "62356/62356 [==============================] - 100s 2ms/step - loss: 0.1896 - accuracy: 0.9214 - val_loss: 0.2055 - val_accuracy: 0.9195\n",
      "Epoch 5/5\n",
      "62356/62356 [==============================] - 134s 2ms/step - loss: 0.1831 - accuracy: 0.9217 - val_loss: 0.2064 - val_accuracy: 0.9194\n"
     ]
    },
    {
     "data": {
      "text/plain": [
       "<keras.callbacks.callbacks.History at 0x25178681160>"
      ]
     },
     "execution_count": 48,
     "metadata": {},
     "output_type": "execute_result"
    }
   ],
   "source": [
    "rnn_model.fit(encoded_train, text_y_train, \n",
    "              validation_data=(encoded_test, text_y_test),\n",
    "              batch_size=128,\n",
    "              verbose=1,\n",
    "              epochs=5)"
   ]
  },
  {
   "cell_type": "markdown",
   "metadata": {},
   "source": [
    "### 3.2 Char-CNN"
   ]
  },
  {
   "cell_type": "code",
   "execution_count": 30,
   "metadata": {
    "ExecuteTime": {
     "end_time": "2019-12-10T22:31:34.617170Z",
     "start_time": "2019-12-10T22:31:34.613180Z"
    }
   },
   "outputs": [],
   "source": [
    "max_char_len = 256    # since tweets are not very long, so that I select a small number for the max character length for each seq"
   ]
  },
  {
   "cell_type": "code",
   "execution_count": 31,
   "metadata": {
    "ExecuteTime": {
     "end_time": "2019-12-10T22:31:37.626152Z",
     "start_time": "2019-12-10T22:31:37.583234Z"
    }
   },
   "outputs": [],
   "source": [
    "train_texts = [s.lower() for s in X_train.values]\n",
    "test_texts = [s.lower() for s in X_test.values]"
   ]
  },
  {
   "cell_type": "code",
   "execution_count": 32,
   "metadata": {
    "ExecuteTime": {
     "end_time": "2019-12-10T22:31:43.788661Z",
     "start_time": "2019-12-10T22:31:39.098182Z"
    }
   },
   "outputs": [],
   "source": [
    "char_tokenizer = Tokenizer(num_words=None, char_level=True, oov_token='UNK')\n",
    "char_tokenizer.fit_on_texts(train_texts)\n",
    "\n",
    "alphabet = \"abcdefghijklmnopqrstuvwxyz0123456789,;.!?:'\\\"/\\\\|_@#$%^&*~`+-=<>()[]{}\"\n",
    "char_dict = {}\n",
    "for i, char in enumerate(alphabet):\n",
    "    char_dict[char] = i + 1\n",
    "    \n",
    "char_tokenizer.word_index = char_dict.copy()\n",
    "# add oov\n",
    "char_tokenizer.word_index[char_tokenizer.oov_token] = max(char_dict.values()) + 1\n",
    "\n",
    "train_seq = char_tokenizer.texts_to_sequences(train_texts)\n",
    "test_seq = char_tokenizer.texts_to_sequences(test_texts)\n",
    "\n",
    "train_seq = sequence.pad_sequences(train_seq, maxlen=max_char_len)\n",
    "test_seq = sequence.pad_sequences(test_seq, maxlen=max_char_len)"
   ]
  },
  {
   "cell_type": "code",
   "execution_count": 33,
   "metadata": {
    "ExecuteTime": {
     "end_time": "2019-12-10T22:31:43.797611Z",
     "start_time": "2019-12-10T22:31:43.791644Z"
    }
   },
   "outputs": [],
   "source": [
    "vocab_size = len(char_tokenizer.word_index)\n",
    "# conv, FFNN and other hyperparameters from https://arxiv.org/pdf/1509.01626.pdf\n",
    "conv_layers = [[256, 7, 3], [256, 7, 3], [256, 3, -1], [256, 3, -1], [256, 3, -1], [256, 3, 3]]\n",
    "FFNN_layers = [1024, 1024]"
   ]
  },
  {
   "cell_type": "code",
   "execution_count": 34,
   "metadata": {
    "ExecuteTime": {
     "end_time": "2019-12-10T22:31:43.807584Z",
     "start_time": "2019-12-10T22:31:43.800603Z"
    }
   },
   "outputs": [],
   "source": [
    "embed_weights = []\n",
    "# padding\n",
    "embed_weights.append(np.zeros(vocab_size))\n",
    "\n",
    "for char, index in char_tokenizer.word_index.items():\n",
    "    char_embed = np.zeros(vocab_size)\n",
    "    char_embed[i-1] = 1\n",
    "    embed_weights.append(char_embed)\n",
    "embed_weights = np.array(embed_weights)"
   ]
  },
  {
   "cell_type": "code",
   "execution_count": 54,
   "metadata": {
    "ExecuteTime": {
     "end_time": "2019-12-10T22:48:28.305578Z",
     "start_time": "2019-12-10T22:48:27.994410Z"
    }
   },
   "outputs": [
    {
     "name": "stdout",
     "output_type": "stream",
     "text": [
      "Model: \"model_2\"\n",
      "_________________________________________________________________\n",
      "Layer (type)                 Output Shape              Param #   \n",
      "=================================================================\n",
      "input (InputLayer)           (None, 256)               0         \n",
      "_________________________________________________________________\n",
      "embedding_6 (Embedding)      (None, 256, 69)           4830      \n",
      "_________________________________________________________________\n",
      "conv1d_7 (Conv1D)            (None, 250, 256)          123904    \n",
      "_________________________________________________________________\n",
      "activation_7 (Activation)    (None, 250, 256)          0         \n",
      "_________________________________________________________________\n",
      "max_pooling1d_4 (MaxPooling1 (None, 83, 256)           0         \n",
      "_________________________________________________________________\n",
      "conv1d_8 (Conv1D)            (None, 77, 256)           459008    \n",
      "_________________________________________________________________\n",
      "activation_8 (Activation)    (None, 77, 256)           0         \n",
      "_________________________________________________________________\n",
      "max_pooling1d_5 (MaxPooling1 (None, 25, 256)           0         \n",
      "_________________________________________________________________\n",
      "conv1d_9 (Conv1D)            (None, 23, 256)           196864    \n",
      "_________________________________________________________________\n",
      "activation_9 (Activation)    (None, 23, 256)           0         \n",
      "_________________________________________________________________\n",
      "conv1d_10 (Conv1D)           (None, 21, 256)           196864    \n",
      "_________________________________________________________________\n",
      "activation_10 (Activation)   (None, 21, 256)           0         \n",
      "_________________________________________________________________\n",
      "conv1d_11 (Conv1D)           (None, 19, 256)           196864    \n",
      "_________________________________________________________________\n",
      "activation_11 (Activation)   (None, 19, 256)           0         \n",
      "_________________________________________________________________\n",
      "conv1d_12 (Conv1D)           (None, 17, 256)           196864    \n",
      "_________________________________________________________________\n",
      "activation_12 (Activation)   (None, 17, 256)           0         \n",
      "_________________________________________________________________\n",
      "max_pooling1d_6 (MaxPooling1 (None, 5, 256)            0         \n",
      "_________________________________________________________________\n",
      "flatten_2 (Flatten)          (None, 1280)              0         \n",
      "_________________________________________________________________\n",
      "dense_7 (Dense)              (None, 1024)              1311744   \n",
      "_________________________________________________________________\n",
      "dropout_7 (Dropout)          (None, 1024)              0         \n",
      "_________________________________________________________________\n",
      "dense_8 (Dense)              (None, 1024)              1049600   \n",
      "_________________________________________________________________\n",
      "dropout_8 (Dropout)          (None, 1024)              0         \n",
      "_________________________________________________________________\n",
      "dense_9 (Dense)              (None, 15)                15375     \n",
      "=================================================================\n",
      "Total params: 3,751,917\n",
      "Trainable params: 3,751,917\n",
      "Non-trainable params: 0\n",
      "_________________________________________________________________\n"
     ]
    }
   ],
   "source": [
    "embed_layer = Embedding(vocab_size+1, 69, input_length=max_char_len, weights=[embed_weights])\n",
    "inputs = Input(shape=(max_char_len,), name='input', dtype='int64')\n",
    "\n",
    "x = embed_layer(inputs)\n",
    "for layer in conv_layers:\n",
    "    x = Conv1D(layer[0], layer[1])(x)\n",
    "    x = Activation('relu')(x)\n",
    "    if layer[2] != -1:\n",
    "        x = MaxPooling1D(layer[2])(x)\n",
    "x = Flatten()(x)\n",
    "for feed_forward in FFNN_layers:\n",
    "    x = Dense(feed_forward, activation='relu')(x)\n",
    "    x = Dropout(0.5)(x)\n",
    "predictions = Dense(num_classes, activation='softmax')(x)\n",
    "char_cnn_model = Model(inputs=inputs, outputs=predictions)\n",
    "char_cnn_model.compile('adam', 'binary_crossentropy', metrics=['accuracy'])\n",
    "\n",
    "char_cnn_model.summary()"
   ]
  },
  {
   "cell_type": "code",
   "execution_count": 55,
   "metadata": {
    "ExecuteTime": {
     "end_time": "2019-12-10T23:15:26.807736Z",
     "start_time": "2019-12-10T22:48:36.637288Z"
    }
   },
   "outputs": [
    {
     "name": "stderr",
     "output_type": "stream",
     "text": [
      "c:\\users\\zhuda\\anaconda3\\envs\\python3\\lib\\site-packages\\tensorflow\\python\\ops\\gradients_util.py:93: UserWarning: Converting sparse IndexedSlices to a dense Tensor of unknown shape. This may consume a large amount of memory.\n",
      "  \"Converting sparse IndexedSlices to a dense Tensor of unknown shape. \"\n"
     ]
    },
    {
     "name": "stdout",
     "output_type": "stream",
     "text": [
      "Train on 62356 samples, validate on 15590 samples\n",
      "Epoch 1/5\n",
      "62356/62356 [==============================] - 335s 5ms/step - loss: 0.3309 - accuracy: 0.8774 - val_loss: 0.3182 - val_accuracy: 0.8803\n",
      "Epoch 2/5\n",
      "62356/62356 [==============================] - 356s 6ms/step - loss: 0.3160 - accuracy: 0.8800 - val_loss: 0.3105 - val_accuracy: 0.8805\n",
      "Epoch 3/5\n",
      "62356/62356 [==============================] - 317s 5ms/step - loss: 0.2978 - accuracy: 0.8832 - val_loss: 0.2867 - val_accuracy: 0.8878\n",
      "Epoch 4/5\n",
      "62356/62356 [==============================] - 297s 5ms/step - loss: 0.2794 - accuracy: 0.8897 - val_loss: 0.2733 - val_accuracy: 0.8920\n",
      "Epoch 5/5\n",
      "62356/62356 [==============================] - 303s 5ms/step - loss: 0.2673 - accuracy: 0.8974 - val_loss: 0.2631 - val_accuracy: 0.9005\n"
     ]
    },
    {
     "data": {
      "text/plain": [
       "<keras.callbacks.callbacks.History at 0x2517aa66128>"
      ]
     },
     "execution_count": 55,
     "metadata": {},
     "output_type": "execute_result"
    }
   ],
   "source": [
    "char_cnn_model.fit(train_seq, text_y_train,\n",
    "                  validation_data=(test_seq, text_y_test),\n",
    "                  batch_size=128,\n",
    "                  epochs=5,\n",
    "                  verbose=1)"
   ]
  },
  {
   "cell_type": "markdown",
   "metadata": {},
   "source": [
    "### 3.3 Compare"
   ]
  },
  {
   "cell_type": "markdown",
   "metadata": {},
   "source": [
    "We use F1 to evaluate the model performance. The metric reports the precision, recall, and f1 by classes. We use the macro F1 as the main evaluation metric."
   ]
  },
  {
   "cell_type": "code",
   "execution_count": 58,
   "metadata": {
    "ExecuteTime": {
     "end_time": "2019-12-10T23:19:50.044185Z",
     "start_time": "2019-12-10T23:19:45.105424Z"
    }
   },
   "outputs": [],
   "source": [
    "rnn_pred = rnn_model.predict(encoded_test)\n",
    "rnn_pred = np.where(rnn_pred >= 0.5, 1, 0)"
   ]
  },
  {
   "cell_type": "code",
   "execution_count": 59,
   "metadata": {
    "ExecuteTime": {
     "end_time": "2019-12-10T23:20:14.325302Z",
     "start_time": "2019-12-10T23:20:14.132817Z"
    }
   },
   "outputs": [
    {
     "name": "stdout",
     "output_type": "stream",
     "text": [
      "              precision    recall  f1-score   support\n",
      "\n",
      "           0       0.92      1.00      0.96    204399\n",
      "           1       0.96      0.37      0.54     29451\n",
      "\n",
      "   micro avg       0.92      0.92      0.92    233850\n",
      "   macro avg       0.94      0.69      0.75    233850\n",
      "weighted avg       0.92      0.92      0.90    233850\n",
      "\n"
     ]
    }
   ],
   "source": [
    "flattened_pred_rnn = rnn_pred.flatten()\n",
    "flattened_true = text_y_test.flatten()\n",
    "print(classification_report(flattened_true, flattened_pred_rnn))"
   ]
  },
  {
   "cell_type": "code",
   "execution_count": 62,
   "metadata": {
    "ExecuteTime": {
     "end_time": "2019-12-10T23:21:53.345566Z",
     "start_time": "2019-12-10T23:21:36.107674Z"
    }
   },
   "outputs": [
    {
     "name": "stdout",
     "output_type": "stream",
     "text": [
      "              precision    recall  f1-score   support\n",
      "\n",
      "           0       0.90      1.00      0.95    204399\n",
      "           1       0.96      0.22      0.36     29451\n",
      "\n",
      "   micro avg       0.90      0.90      0.90    233850\n",
      "   macro avg       0.93      0.61      0.65    233850\n",
      "weighted avg       0.91      0.90      0.87    233850\n",
      "\n"
     ]
    }
   ],
   "source": [
    "char_cnn_pred = char_cnn_model.predict(test_seq)\n",
    "char_cnn_pred = np.where(char_cnn_pred >= 0.5, 1, 0)\n",
    "flatten_pred_char_cnn = char_cnn_pred.flatten()\n",
    "print(classification_report(flattened_true, flatten_pred_char_cnn))"
   ]
  },
  {
   "cell_type": "markdown",
   "metadata": {},
   "source": [
    "Both Bi-LSTM and Char CNN are trained 5 epochs. For the word-level model, only tf-idf is used to calculate embedding weights. The Bi-LSTM model achieves 0.75 on F1 and Character-based CNN gets 0.65 on F1. The results from the two metrics show that the Bi-LSTM model achieves the better performance. If we do not increase the model complexity (especially for the Bi-LSTM), both non-contextualized embeddings, e.g. GloVe, and contextualized language models, e.g. ElMo, can largely improve the score."
   ]
  }
 ],
 "metadata": {
  "kernelspec": {
   "display_name": "Python 3",
   "language": "python",
   "name": "python3"
  },
  "language_info": {
   "codemirror_mode": {
    "name": "ipython",
    "version": 3
   },
   "file_extension": ".py",
   "mimetype": "text/x-python",
   "name": "python",
   "nbconvert_exporter": "python",
   "pygments_lexer": "ipython3",
   "version": "3.6.8"
  }
 },
 "nbformat": 4,
 "nbformat_minor": 2
}
